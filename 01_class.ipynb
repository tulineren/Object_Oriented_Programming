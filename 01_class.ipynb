{
  "nbformat": 4,
  "nbformat_minor": 0,
  "metadata": {
    "colab": {
      "provenance": []
    },
    "kernelspec": {
      "name": "python3",
      "display_name": "Python 3"
    },
    "language_info": {
      "name": "python"
    }
  },
  "cells": [
    {
      "cell_type": "markdown",
      "source": [
        "# **CLASS**"
      ],
      "metadata": {
        "id": "AHNgj6KePrwi"
      }
    },
    {
      "cell_type": "code",
      "source": [
        "# Sınıf tanımı\n",
        "class Araba:\n",
        "    pass  # Şu anda boş, özellik veya metot yok"
      ],
      "metadata": {
        "id": "s8sPwrszSAed"
      },
      "execution_count": 4,
      "outputs": []
    },
    {
      "cell_type": "code",
      "source": [
        "class Araba:\n",
        "  def __init__(self, marka, model, renk):\n",
        "    self.marka = marka\n",
        "    self.model = model\n",
        "    self.renk = renk\n",
        "  def bilgileri_göster(self):\n",
        "    print(f\"Marka: {self.marka} Model: {self.model} Renk: {self.renk}\")\n",
        "  def renk_degistir(self, yeni_renk):\n",
        "    self.renk = yeni_renk\n",
        "    print(f\"Arabanın rengi {self.renk} olarak değiştirildi.\")\n",
        "\n",
        "araba1 = Araba(\"Porsche\", \"Macan\", \"Mürdüm\")\n",
        "araba1.bilgileri_göster()\n",
        "araba1.renk_degistir(\"Füme\")\n",
        "araba1.bilgileri_göster()"
      ],
      "metadata": {
        "colab": {
          "base_uri": "https://localhost:8080/"
        },
        "id": "1WcGq7TKS39Z",
        "outputId": "441397a3-6679-427a-c59c-c6b7c48c698c"
      },
      "execution_count": 21,
      "outputs": [
        {
          "output_type": "stream",
          "name": "stdout",
          "text": [
            "Marka: Porsche Model: Macan Renk: Mürdüm\n",
            "Arabanın rengi Füme olarak değiştirildi.\n",
            "Marka: Porsche Model: Macan Renk: Füme\n"
          ]
        }
      ]
    },
    {
      "cell_type": "code",
      "source": [
        "class Student:\n",
        "  def __init__(self, name, department, grade):\n",
        "    self.name = name\n",
        "    self.department = department\n",
        "    self.grade = grade\n",
        "  def show_info(self):\n",
        "    print(f\"Name: {self.name}\\nDepartment: {self.department}\\nGrade: {self.grade}\")\n",
        "student1 = Student(\"Tülin\", \"Computer Engineering\", 3)\n",
        "student1.show_info()"
      ],
      "metadata": {
        "colab": {
          "base_uri": "https://localhost:8080/"
        },
        "id": "0FXgVkjPZIyW",
        "outputId": "0e96b11c-17d2-4240-e95e-b04f72880dfe"
      },
      "execution_count": 9,
      "outputs": [
        {
          "output_type": "stream",
          "name": "stdout",
          "text": [
            "Name: Tülin\n",
            "Department: Computer Engineering\n",
            "Grade: 3\n"
          ]
        }
      ]
    }
  ]
}