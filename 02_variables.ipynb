{
  "nbformat": 4,
  "nbformat_minor": 0,
  "metadata": {
    "colab": {
      "provenance": []
    },
    "kernelspec": {
      "name": "python3",
      "display_name": "Python 3"
    },
    "language_info": {
      "name": "python"
    }
  },
  "cells": [
    {
      "cell_type": "markdown",
      "source": [
        "# **CLASS VARIABLES VS INSTANCE VARIABLES**\n",
        "**Class Variables (Sınıf Değişkenleri)**\n",
        "\n",
        "\n",
        "*   Tanım: Tüm sınıf ve nesneler tarafından paylaşılan değişkenlerdir.\n",
        "\n",
        "*   self yerine doğrudan sınıfın içinde tanımlanır.\n",
        "*   Değeri, tüm nesneler için aynıdır (değiştirilirse tüm nesneleri etkiler).\n",
        "\n",
        "\n",
        "\n",
        "**Instance Variables (Nesne Değişkenleri)**\n",
        "\n",
        "\n",
        "*   Tanım: Her nesneye özgü değişkenlerdir.\n",
        "*   self ile tanımlanır.\n",
        "\n",
        "*   Her nesnenin kendi kopyası vardır.\n",
        "*   Nesneye özel bilgileri tutar.\n"
      ],
      "metadata": {
        "id": "edlz_q56UyKr"
      }
    },
    {
      "cell_type": "code",
      "source": [
        "class Araba:\n",
        "    def __init__(self, marka, model):\n",
        "        self.marka = marka      # Instance variable\n",
        "        self.model = model      # Instance variable\n",
        "\n",
        "# Nesneler oluşturma\n",
        "araba1 = Araba(\"Toyota\", \"Corolla\")\n",
        "araba2 = Araba(\"Honda\", \"Civic\")\n",
        "\n",
        "print(araba1.marka)\n",
        "print(araba2.marka)\n",
        "print(araba1.__dict__)\n",
        "print(araba2.__dict__)\n",
        "print(Araba.__dict__)"
      ],
      "metadata": {
        "colab": {
          "base_uri": "https://localhost:8080/"
        },
        "id": "xDUhfUXXVyCf",
        "outputId": "38941d7b-97a1-402e-9b47-92c96eb873d3"
      },
      "execution_count": 10,
      "outputs": [
        {
          "output_type": "stream",
          "name": "stdout",
          "text": [
            "Toyota\n",
            "Honda\n",
            "{'marka': 'Toyota', 'model': 'Corolla'}\n",
            "{'marka': 'Honda', 'model': 'Civic'}\n",
            "{'__module__': '__main__', '__init__': <function Araba.__init__ at 0x7d7a32105800>, '__dict__': <attribute '__dict__' of 'Araba' objects>, '__weakref__': <attribute '__weakref__' of 'Araba' objects>, '__doc__': None}\n"
          ]
        }
      ]
    },
    {
      "cell_type": "code",
      "source": [
        "class Araba:\n",
        "    tekerlek_sayisi = 4   # Class variable (tüm arabalar için aynı)\n",
        "\n",
        "    def __init__(self, marka, model):\n",
        "        self.marka = marka   # Instance variable\n",
        "        self.model = model   # Instance variable\n",
        "\n",
        "araba1 = Araba(\"Toyota\", \"Corolla\")\n",
        "araba2 = Araba(\"Honda\", \"Civic\")\n",
        "\n",
        "print(araba1.tekerlek_sayisi)\n",
        "print(araba2.tekerlek_sayisi)\n",
        "\n",
        "# Class variable değiştirme\n",
        "Araba.tekerlek_sayisi = 6\n",
        "\n",
        "print(araba1.tekerlek_sayisi)\n",
        "print(araba2.tekerlek_sayisi)"
      ],
      "metadata": {
        "colab": {
          "base_uri": "https://localhost:8080/"
        },
        "id": "mpbNYjAHOJiO",
        "outputId": "3d1d7861-63bf-4d81-d226-cd6a7b4b09ae"
      },
      "execution_count": 11,
      "outputs": [
        {
          "output_type": "stream",
          "name": "stdout",
          "text": [
            "4\n",
            "4\n",
            "6\n",
            "6\n"
          ]
        }
      ]
    }
  ]
}