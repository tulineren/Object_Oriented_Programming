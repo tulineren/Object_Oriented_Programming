{
  "nbformat": 4,
  "nbformat_minor": 0,
  "metadata": {
    "colab": {
      "provenance": []
    },
    "kernelspec": {
      "name": "python3",
      "display_name": "Python 3"
    },
    "language_info": {
      "name": "python"
    }
  },
  "cells": [
    {
      "cell_type": "markdown",
      "source": [
        "# **INHERITANCE**\n",
        "Kalıtım (inheritance), nesne yönelimli programlamada (OOP) bir sınıfın başka bir sınıfın özelliklerini (attributes) ve metotlarını (methods) devralmasını sağlar. Böylece tekrar tekrar aynı kodu yazmak yerine, bir sınıfı temel alıp üzerine eklemeler yapabiliriz.\n",
        "\n",
        "**super() Nedir?**\n",
        "\n",
        "*   super() üst (parent) sınıfın metotlarını çağırmak için kullanılır.\n",
        "*   Böylece aynı isimli metotları alt sınıfta tekrar tanımlasak bile, üst sınıfın orijinal haline erişebiliriz.\n",
        "\n",
        "**isinstance(obj, Class)**\n",
        "\n",
        "\n",
        "*   Bir nesnenin (objenin) belirli bir sınıftan (veya o sınıftan türetilmiş alt sınıflardan) olup olmadığını kontrol eder\n",
        "\n",
        "**issubclass(Class1, Class2)**\n",
        "\n",
        "*   Bir sınıfın başka bir sınıfın alt sınıfı olup olmadığını kontrol eder."
      ],
      "metadata": {
        "id": "pNAs36GrEkRf"
      }
    },
    {
      "cell_type": "code",
      "source": [
        "class Calisan:\n",
        "  zam_orani = 1.1\n",
        "  def __init__(self,isim,soyisim,maas):\n",
        "    self.isim=isim\n",
        "    self.soyisim=soyisim\n",
        "    self.maas=maas\n",
        "    self.email = isim + soyisim + \"@sirket.com\"\n",
        "  def bilgileri_goster(self):\n",
        "    return \"isim : {} soyisim : {} maas : {} email : {}\".format(self.isim,self.soyisim,self.maas,self.email)\n",
        "calisan1 = Calisan(\"ahmet\",\"yılmaz\",3000)\n",
        "calisan2 = Calisan(\"mehmet\",\"yılmaz\",7000)\n",
        "\n",
        "class Yazilimci(Calisan):\n",
        "  zam_orani = 1.2\n",
        "  def __init__(self,isim,soyisim,maas, bildigi_dil):\n",
        "    super().__init__(isim,soyisim,maas)\n",
        "    self.bildigi_dil = bildigi_dil\n",
        "  def bilgileri_goster(self):\n",
        "    return \"isim : {} soyisim : {} maas : {} email : {} bildigi dil : {}\".format(self.isim,self.soyisim,self.maas,self.email,self.bildigi_dil)\n",
        "\n",
        "class Yonetici(Calisan):\n",
        "  def __init__(self,isim,soyisim,maas,calisanlar = None):\n",
        "    super().__init__(isim,soyisim,maas)\n",
        "    if calisanlar is None:\n",
        "      self.calisanlar = []\n",
        "    else:\n",
        "      self.calisanlar = calisanlar\n",
        "\n",
        "  def calisan_ekle(self,Calisan):\n",
        "    if Calisan not in self.calisanlar:\n",
        "      self.calisanlar.append(Calisan)\n",
        "\n",
        "  def calisan_sil(self,Calisan):\n",
        "    if Calisan in self.calisanlar:\n",
        "      self.calisanlar.remove(Calisan)\n",
        "\n",
        "  def calisanlari_goster(self):\n",
        "    for Calisan in self.calisanlar:\n",
        "      print(Calisan.bilgileri_goster())\n",
        "\n",
        "yazilimci1 = Yazilimci(\"Ali\",\"Bey\",2490,\"Python\")\n",
        "yazilimci2 = Yazilimci(\"Tuncay\",\"Kara\",4500,\"Java\")\n",
        "\n",
        "print(calisan2.bilgileri_goster())\n",
        "print(yazilimci2.bilgileri_goster())\n",
        "print(\"**************\")\n",
        "yonetici1  = Yonetici(\"ahmet\",\"yılmaz\",100000)\n",
        "yonetici1.calisan_ekle(calisan1)\n",
        "yonetici1.calisan_ekle(calisan2)\n",
        "yonetici1.calisan_ekle(yazilimci1)\n",
        "yonetici1.calisan_ekle(yazilimci2)\n",
        "yonetici1.calisanlari_goster()\n",
        "print(\"**************\")\n",
        "yonetici1.calisan_sil(Yazilimci)\n",
        "yonetici1.calisanlari_goster()\n",
        "print(\"**************\")\n",
        "yonetici2  = Yonetici(\"ahmet\",\"yılmaz\",110000,[yazilimci1, yazilimci2, calisan1])\n",
        "yonetici2.calisanlari_goster()\n",
        "print(\"**************\")\n",
        "print(isinstance(yonetici2,Yonetici))\n",
        "print(isinstance(yonetici2,Calisan))\n",
        "print(isinstance(yonetici2,Yazilimci))\n",
        "print(issubclass(Yonetici,Calisan))\n"
      ],
      "metadata": {
        "colab": {
          "base_uri": "https://localhost:8080/"
        },
        "id": "fg6ot-HvEydB",
        "outputId": "3091ecea-9a24-47b3-af2e-cc39412a362f"
      },
      "execution_count": 38,
      "outputs": [
        {
          "output_type": "stream",
          "name": "stdout",
          "text": [
            "isim : mehmet soyisim : yılmaz maas : 7000 email : mehmetyılmaz@sirket.com\n",
            "isim : Tuncay soyisim : Kara maas : 4500 email : TuncayKara@sirket.com bildigi dil : Java\n",
            "**************\n",
            "isim : ahmet soyisim : yılmaz maas : 3000 email : ahmetyılmaz@sirket.com\n",
            "isim : mehmet soyisim : yılmaz maas : 7000 email : mehmetyılmaz@sirket.com\n",
            "isim : Ali soyisim : Bey maas : 2490 email : AliBey@sirket.com bildigi dil : Python\n",
            "isim : Tuncay soyisim : Kara maas : 4500 email : TuncayKara@sirket.com bildigi dil : Java\n",
            "**************\n",
            "isim : ahmet soyisim : yılmaz maas : 3000 email : ahmetyılmaz@sirket.com\n",
            "isim : mehmet soyisim : yılmaz maas : 7000 email : mehmetyılmaz@sirket.com\n",
            "isim : Ali soyisim : Bey maas : 2490 email : AliBey@sirket.com bildigi dil : Python\n",
            "isim : Tuncay soyisim : Kara maas : 4500 email : TuncayKara@sirket.com bildigi dil : Java\n",
            "**************\n",
            "isim : Ali soyisim : Bey maas : 2490 email : AliBey@sirket.com bildigi dil : Python\n",
            "isim : Tuncay soyisim : Kara maas : 4500 email : TuncayKara@sirket.com bildigi dil : Java\n",
            "isim : ahmet soyisim : yılmaz maas : 3000 email : ahmetyılmaz@sirket.com\n",
            "**************\n",
            "True\n",
            "True\n",
            "False\n",
            "True\n"
          ]
        }
      ]
    },
    {
      "cell_type": "code",
      "source": [
        "class Hayvan:\n",
        "  def __init__(self,isim):\n",
        "    self.isim = isim\n",
        "  def ses_cikar(self):\n",
        "    print(\"Hayvan ses çıkartıyor.\")\n",
        "\n",
        "class Kedi(Hayvan):\n",
        "  def __init__(self,isim,tur): # Üst sınıfın __init__ metodunu çağırıyoruz\n",
        "    super().__init__(isim)\n",
        "    self.tur = tur\n",
        "\n",
        "  def ses_cikar(self): # Metodu ezme (override)\n",
        "    return \"Miyav!\"\n",
        "\n",
        "h = Hayvan(\"Bilinmeyen\")\n",
        "h.ses_cikar()\n",
        "\n",
        "k = Kedi(\"Pamuk\",\"Van Kedisi\")\n",
        "print(k.isim)\n",
        "print(k.tur)\n",
        "print(k.ses_cikar())"
      ],
      "metadata": {
        "colab": {
          "base_uri": "https://localhost:8080/"
        },
        "id": "1fyRBcnLFS8R",
        "outputId": "5c80bd33-74c7-4a4b-bc96-06fa909726ab"
      },
      "execution_count": 37,
      "outputs": [
        {
          "output_type": "stream",
          "name": "stdout",
          "text": [
            "Hayvan ses çıkartıyor.\n",
            "Pamuk\n",
            "Van Kedisi\n",
            "Miyav!\n"
          ]
        }
      ]
    },
    {
      "cell_type": "code",
      "source": [
        "# Çoklu Kalıtım\n",
        "class Ucan:\n",
        "  pass\n",
        "  #def hareket(self):\n",
        "    #print(\"Uçabiliyor.\")\n",
        "class Yuzebilen:\n",
        "  def hareket(self):\n",
        "    print(\"Yüzebiliyor.\")\n",
        "class Marti(Ucan,Yuzebilen):\n",
        "  pass\n",
        "marti = Marti()\n",
        "marti.hareket()\n",
        "#Kalıtım sırasında ilk yazılan sınıfa (Ucan) bakar. Orada bulursa çalıştırır.\n",
        "#Eğer Ucan’da bulamasaydı → Yuzebilen’e bakardı."
      ],
      "metadata": {
        "colab": {
          "base_uri": "https://localhost:8080/"
        },
        "id": "b1CzFGw9MApn",
        "outputId": "98dc3987-6bbe-4f9e-ec7c-7cea1c7afdbd"
      },
      "execution_count": 36,
      "outputs": [
        {
          "output_type": "stream",
          "name": "stdout",
          "text": [
            "Yüzebiliyor.\n"
          ]
        }
      ]
    }
  ]
}