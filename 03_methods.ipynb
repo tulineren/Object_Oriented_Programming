{
  "nbformat": 4,
  "nbformat_minor": 0,
  "metadata": {
    "colab": {
      "provenance": []
    },
    "kernelspec": {
      "name": "python3",
      "display_name": "Python 3"
    },
    "language_info": {
      "name": "python"
    }
  },
  "cells": [
    {
      "cell_type": "markdown",
      "source": [
        "# **METHODS**\n",
        "**1. Instance Methods (Örnek Metotlar)**\n",
        "\n",
        "*   En sık kullanılan metotlardır.\n",
        "*   İlk parametre olarak self alırlar.\n",
        "*   Sadece nesne (instance) üzerinden çağrılır.\n",
        "*   Nesneye ait verilere erişebilir ve onları değiştirebilir.\n",
        "\n",
        "**2. Class Methods (Sınıf Metotları)**\n",
        "\n",
        "*   İlk parametre olarak cls alır.\n",
        "*   @classmethod dekoratörü ile tanımlanır.\n",
        "*   Sınıfın kendisine erişebilir (örnekten bağımsız).\n",
        "*   Genelde alternatif yapıcılar (factory methods) olarak kullanılır.\n",
        "\n",
        "**3. Static Methods (Statik Metotlar)**\n",
        "\n",
        "*   @staticmethod dekoratörü ile tanımlanır.\n",
        "*   Ne self ne de cls parametresi alır.\n",
        "*   Sınıfın veya nesnenin verilerine erişmez.\n",
        "*   Daha çok yardımcı (utility) fonksiyonlar için kullanılır."
      ],
      "metadata": {
        "id": "TUI2UjT5_Mmw"
      }
    },
    {
      "cell_type": "code",
      "source": [
        "class Araba:\n",
        "  def __init__(self,marka,model,yil):\n",
        "    self.marka = marka\n",
        "    self.model = model\n",
        "    self.yil = yil\n",
        "\n",
        "  def bilgiler_göster(self):\n",
        "    return \"Marka: {}, Model: {}, Yıl: {}\".format(self.marka,self.model,self.yil)\n",
        "\n",
        "a1 = Araba(\"Audi\",\"A4\",2022)\n",
        "print(a1.bilgiler_göster())"
      ],
      "metadata": {
        "colab": {
          "base_uri": "https://localhost:8080/"
        },
        "id": "Jpgwmx2XAAb3",
        "outputId": "08f3a27f-7f7f-4e56-fce8-8f5e7060b053"
      },
      "execution_count": 1,
      "outputs": [
        {
          "output_type": "stream",
          "name": "stdout",
          "text": [
            "Marka: Audi, Model: A4, Yıl: 2022\n"
          ]
        }
      ]
    },
    {
      "cell_type": "code",
      "source": [
        "class Araba:\n",
        "  araba_sayisi = 0\n",
        "  def __init__(self,marka,model):\n",
        "    self.marka = marka\n",
        "    self.model = model\n",
        "    Araba.araba_sayisi += 1\n",
        "\n",
        "  @classmethod\n",
        "  def kac_araba_var(cls):\n",
        "    return f\"Toplam {cls.araba_sayisi} araba var.\"\n",
        "\n",
        "a1 = Araba(\"Audi\",\"A4\")\n",
        "a2 = Araba(\"Tesla\",\"Model S\")\n",
        "print(Araba.kac_araba_var())"
      ],
      "metadata": {
        "colab": {
          "base_uri": "https://localhost:8080/"
        },
        "id": "zK5TF_1mCOC7",
        "outputId": "b2e80912-4d9b-4e40-eecb-6f1c06423c3a"
      },
      "execution_count": 3,
      "outputs": [
        {
          "output_type": "stream",
          "name": "stdout",
          "text": [
            "Toplam 2 araba var.\n"
          ]
        }
      ]
    },
    {
      "cell_type": "code",
      "source": [
        "class Araba:\n",
        "  @staticmethod\n",
        "  def motor_gucu_hesapla(cc):\n",
        "    if cc < 1000:\n",
        "      return \"Düşük güç\"\n",
        "    elif cc < 2000:\n",
        "      return \"Orta güç\"\n",
        "    else:\n",
        "      return \"Yüksek güç\"\n",
        "\n",
        "print(Araba.motor_gucu_hesapla(1600))"
      ],
      "metadata": {
        "colab": {
          "base_uri": "https://localhost:8080/"
        },
        "id": "Oyp4zSBdEqoC",
        "outputId": "6dde7033-c8ce-4898-979f-c2f179ef56f5"
      },
      "execution_count": 5,
      "outputs": [
        {
          "output_type": "stream",
          "name": "stdout",
          "text": [
            "Orta güç\n"
          ]
        }
      ]
    },
    {
      "cell_type": "code",
      "source": [
        "class Ogrenci:\n",
        "    def __init__(self, isim, notlar):\n",
        "        self.isim = isim\n",
        "        self.notlar = notlar\n",
        "\n",
        "    # Instance method\n",
        "    def ortalama_hesapla(self):\n",
        "        return sum(self.notlar) / len(self.notlar)\n",
        "\n",
        "    def bilgileri_goster(self):\n",
        "        return f\"Öğrenci: {self.isim}, Ortalama: {self.ortalama_hesapla():.2f}\"\n",
        "\n",
        "o1 = Ogrenci(\"Tülin\", [90, 85, 100])\n",
        "o2 = Ogrenci(\"Ayşe\", [70, 75, 65])\n",
        "\n",
        "print(o1.bilgileri_goster())  
        "print(o2.bilgileri_goster())  
      ],
      "metadata": {
        "id": "WCSC1ydu30wr"
      },
      "execution_count": null,
      "outputs": []
    },
    {
      "cell_type": "code",
      "source": [
        "class BankaHesabi:\n",
        "    hesap_sayisi = 0\n",
        "\n",
        "    def __init__(self, isim, bakiye):\n",
        "        self.isim = isim\n",
        "        self.bakiye = bakiye\n",
        "        BankaHesabi.hesap_sayisi += 1\n",
        "\n",
        "    # Class method\n",
        "    @classmethod\n",
        "    def toplam_hesap(cls):\n",
        "        return f\"Şu ana kadar {cls.hesap_sayisi} hesap açıldı.\"\n",
        "\n",
        "h1 = BankaHesabi(\"Ayşe\", 1000)\n",
        "h2 = BankaHesabi(\"Mehmet\", 500)\n",
        "\n",
        "print(BankaHesabi.toplam_hesap())  # Şu ana kadar 2 hesap açıldı."
      ],
      "metadata": {
        "id": "J50e9yFB31Eo"
      },
      "execution_count": null,
      "outputs": []
    },
    {
      "cell_type": "code",
      "source": [
        "from datetime import date\n",
        "\n",
        "class Kisi:\n",
        "    def __init__(self, isim, dogum_yili):\n",
        "        self.isim = isim\n",
        "        self.dogum_yili = dogum_yili\n",
        "\n",
        "    # Static method\n",
        "    @staticmethod\n",
        "    def yas_hesapla(dogum_yili):\n",
        "        bugun = date.today().year\n",
        "        return bugun - dogum_yili\n",
        "\n",
        "    def bilgileri_goster(self):\n",
        "        return f\"{self.isim}, {Kisi.yas_hesapla(self.dogum_yili)} yaşında.\"\n",
        "\n",
        "k1 = Kisi(\"Zeynep\", 2000)\n",
        "k2 = Kisi(\"Emre\", 1998)\n",
        "\n",
        "print(k1.bilgileri_goster())  # Zeynep, 25 yaşında.\n",
        "print(k2.bilgileri_goster())  # Emre, 27 yaşında."
      ],
      "metadata": {
        "id": "4vSF7FL131M8"
      },
      "execution_count": null,
      "outputs": []
    }
  ]
}
